{
 "cells": [
  {
   "cell_type": "markdown",
   "id": "a9aff0d8-089b-4a49-9cad-0d25e5da4ad4",
   "metadata": {
    "tags": []
   },
   "source": [
    "# PartOf Relation Inference Using ASP \n"
   ]
  },
  {
   "cell_type": "markdown",
   "id": "3e323269-4f9f-4669-acea-06e777bf33ea",
   "metadata": {
    "tags": []
   },
   "source": [
    "## Facts exported from **Neural Network** and **ConceptNet**\n",
    "\n"
   ]
  },
  {
   "cell_type": "markdown",
   "id": "34774de9-fa5f-4885-812a-860f41281a35",
   "metadata": {},
   "source": [
    "Create a File containing all **input facts**..."
   ]
  },
  {
   "cell_type": "code",
   "execution_count": 1,
   "id": "0c96899e-cee0-4ac4-9cc8-b4cae841f0b1",
   "metadata": {},
   "outputs": [
    {
     "name": "stdout",
     "output_type": "stream",
     "text": [
      "Overwriting data.lp\n"
     ]
    }
   ],
   "source": [
    "%%file data.lp\n",
    "\n",
    "label(0,img,b0,\"Aeroplane\").\n",
    "label(0,img,b1,\"Artifact_Wing\").\n",
    "label(0,img,b2,\"Artifact_Wing\").\n",
    "label(0,img,b3,\"Artifact_Wing\").\n",
    "label(0,img,b4,\"Body\").\n",
    "label(0,img,b5,\"Body\").\n",
    "label(0,img,b6,\"Engine\").\n",
    "label(0,img,b7,\"Engine\").\n",
    "label(0,img,b8,\"Engine\").\n",
    "label(0,img,b9,\"Stern\").\n",
    "box(img,b0,86,124,388,282).\n",
    "box(img,b1,213,121,332,201).\n",
    "box(img,b2,190,206,234,279).\n",
    "box(img,b3,213,201,260,229).\n",
    "box(img,b4,82,145,265,227).\n",
    "box(img,b5,172,166,238,196).\n",
    "box(img,b6,166,210,205,233).\n",
    "box(img,b7,74,131,358,281).\n",
    "box(img,b8,190,167,224,194).\n",
    "box(img,b9,324,205,397,279).\n",
    "\n",
    "partOf(\"Arm\",\"Body\").\n",
    "partOf(\"Arm\",\"Chair\").\n",
    "partOf(\"Leg\",\"Body\").\n",
    "partOf(\"Leg\",\"Chair\").\n",
    "partOf(\"Beak\",\"Bird\").\n",
    "partOf(\"Mouth\",\"Bottle\").\n",
    "partOf(\"Torso\",\"Body\").\n",
    "partOf(\"Window\",\"Bus\").\n",
    "partOf(\"Window\",\"Car\").\n",
    "partOf(\"Ear\",\"Head\").\n",
    "partOf(\"Head\",\"Body\").\n",
    "partOf(\"Foot\",\"Leg\").\n",
    "partOf(\"Foot\",\"Chair\").\n",
    "partOf(\"Hand\",\"Arm\").\n",
    "partOf(\"Handlebar\",\"Bicycle\").\n",
    "partOf(\"Wheel\",\"Car\").\n",
    "partOf(\"Horn\",\"Car\").\n",
    "partOf(\"Muzzle\",\"Head\").\n",
    "partOf(\"Neck\",\"Body\").\n",
    "hasA(\"Body\",\"Arm\").\n",
    "hasA(\"Chair\",\"Arm\").\n",
    "hasA(\"Body\",\"Leg\").\n",
    "hasA(\"Chair\",\"Leg\").\n",
    "hasA(\"Bird\",\"Beak\").\n",
    "hasA(\"Bottle\",\"Mouth\").\n",
    "hasA(\"Body\",\"Torso\").\n",
    "hasA(\"Bus\",\"Window\").\n",
    "hasA(\"Car\",\"Window\").\n",
    "hasA(\"Head\",\"Ear\").\n",
    "hasA(\"Body\",\"Head\").\n",
    "hasA(\"Leg\",\"Foot\").\n",
    "hasA(\"Chair\",\"Foot\").\n",
    "hasA(\"Arm\",\"Hand\").\n",
    "hasA(\"Bicycle\",\"Handlebar\").\n",
    "hasA(\"Car\",\"Wheel\").\n",
    "hasA(\"Car\",\"Horn\").\n",
    "hasA(\"Head\",\"Muzzle\").\n",
    "hasA(\"Body\",\"Neck\").\n",
    "hasA(\"Aeroplane\",\"Engine\"). %dummy rule\n",
    "hasA(\"Hair\",\"Cat\").\n",
    "object(\"Aeroplane\").\n",
    "object(\"Bicycle\").\n",
    "object(\"Bird\").\n",
    "object(\"Boat\").\n",
    "object(\"Bottle\").\n",
    "object(\"Bus\").\n",
    "object(\"Car\").\n",
    "object(\"Cat\").\n",
    "object(\"Chair\").\n",
    "object(\"Cow\").\n",
    "object(\"Dog\").\n",
    "object(\"Horse\").\n",
    "object(\"Locomotive\").\n",
    "object(\"Motorbike\").\n",
    "object(\"Person\").\n",
    "object(\"Pottedplant\").\n",
    "object(\"Sheep\").\n",
    "object(\"Sofa\").\n",
    "object(\"Train\").\n",
    "object(\"Tvmonitor\").\n",
    "object(\"Diningtable\").\n",
    "object(\"Other\").\n",
    "part(\"Animal_Wing\").\n",
    "part(\"Arm\").\n",
    "part(\"Artifact_Wing\").\n",
    "part(\"Beak\").\n",
    "part(\"Body\").\n",
    "part(\"Bodywork\").\n",
    "part(\"Cap\").\n",
    "part(\"Chain_Wheel\").\n",
    "part(\"Coach\").\n",
    "part(\"Door\").\n",
    "part(\"Ear\").\n",
    "part(\"Ebrow\").\n",
    "part(\"Engine\").\n",
    "part(\"Eye\").\n",
    "part(\"Foot\").\n",
    "part(\"Hair\").\n",
    "part(\"Hand\").\n",
    "part(\"Handlebar\").\n",
    "part(\"Head\").\n",
    "part(\"Headlight\").\n",
    "part(\"Hoof\").\n",
    "part(\"Horn\").\n",
    "part(\"Leg\").\n",
    "part(\"License_plate\").\n",
    "part(\"Mirror\").\n",
    "part(\"Mouth\").\n",
    "part(\"Muzzle\").\n",
    "part(\"Neck\").\n",
    "part(\"Nose\").\n",
    "part(\"Plant\").\n",
    "part(\"Pot\").\n",
    "part(\"Saddle\").\n",
    "part(\"Screen\").\n",
    "part(\"Stern\").\n",
    "part(\"Tail\").\n",
    "part(\"Torso\").\n",
    "part(\"Wheel\").\n",
    "part(\"Window\").\n",
    "\n"
   ]
  },
  {
   "cell_type": "markdown",
   "id": "e538d379-c9aa-45f9-a635-fe0376ac9d10",
   "metadata": {},
   "source": [
    "Clingo Execution with just the input facts"
   ]
  },
  {
   "cell_type": "code",
   "execution_count": 2,
   "id": "c549edb9-595f-4fb3-9136-59ced4a249f6",
   "metadata": {},
   "outputs": [
    {
     "name": "stdout",
     "output_type": "stream",
     "text": [
      "clingo version 5.5.2\n",
      "Reading from data.lp\n",
      "Solving...\n",
      "Answer: 1\n",
      "label(0,img,b0,\"Aeroplane\") label(0,img,b1,\"Artifact_Wing\") label(0,img,b2,\"Artifact_Wing\") label(0,img,b3,\"Artifact_Wing\") label(0,img,b4,\"Body\") label(0,img,b5,\"Body\") label(0,img,b6,\"Engine\") label(0,img,b7,\"Engine\") label(0,img,b8,\"Engine\") label(0,img,b9,\"Stern\") box(img,b0,86,124,388,282) box(img,b1,213,121,332,201) box(img,b2,190,206,234,279) box(img,b3,213,201,260,229) box(img,b4,82,145,265,227) box(img,b5,172,166,238,196) box(img,b6,166,210,205,233) box(img,b7,74,131,358,281) box(img,b8,190,167,224,194) box(img,b9,324,205,397,279) partOf(\"Arm\",\"Body\") partOf(\"Arm\",\"Chair\") partOf(\"Leg\",\"Body\") partOf(\"Leg\",\"Chair\") partOf(\"Beak\",\"Bird\") partOf(\"Mouth\",\"Bottle\") partOf(\"Torso\",\"Body\") partOf(\"Window\",\"Bus\") partOf(\"Window\",\"Car\") partOf(\"Ear\",\"Head\") partOf(\"Head\",\"Body\") partOf(\"Foot\",\"Leg\") partOf(\"Foot\",\"Chair\") partOf(\"Hand\",\"Arm\") partOf(\"Handlebar\",\"Bicycle\") partOf(\"Wheel\",\"Car\") partOf(\"Horn\",\"Car\") partOf(\"Muzzle\",\"Head\") partOf(\"Neck\",\"Body\") hasA(\"Body\",\"Arm\") hasA(\"Chair\",\"Arm\") hasA(\"Body\",\"Leg\") hasA(\"Chair\",\"Leg\") hasA(\"Bird\",\"Beak\") hasA(\"Bottle\",\"Mouth\") hasA(\"Body\",\"Torso\") hasA(\"Bus\",\"Window\") hasA(\"Car\",\"Window\") hasA(\"Head\",\"Ear\") hasA(\"Body\",\"Head\") hasA(\"Leg\",\"Foot\") hasA(\"Chair\",\"Foot\") hasA(\"Arm\",\"Hand\") hasA(\"Bicycle\",\"Handlebar\") hasA(\"Car\",\"Wheel\") hasA(\"Car\",\"Horn\") hasA(\"Head\",\"Muzzle\") hasA(\"Body\",\"Neck\") hasA(\"Aeroplane\",\"Engine\") hasA(\"Hair\",\"Cat\") object(\"Aeroplane\") object(\"Bicycle\") object(\"Bird\") object(\"Boat\") object(\"Bottle\") object(\"Bus\") object(\"Car\") object(\"Cat\") object(\"Chair\") object(\"Cow\") object(\"Dog\") object(\"Horse\") object(\"Locomotive\") object(\"Motorbike\") object(\"Person\") object(\"Pottedplant\") object(\"Sheep\") object(\"Sofa\") object(\"Train\") object(\"Tvmonitor\") object(\"Diningtable\") object(\"Other\") part(\"Animal_Wing\") part(\"Arm\") part(\"Artifact_Wing\") part(\"Beak\") part(\"Body\") part(\"Bodywork\") part(\"Cap\") part(\"Chain_Wheel\") part(\"Coach\") part(\"Door\") part(\"Ear\") part(\"Ebrow\") part(\"Engine\") part(\"Eye\") part(\"Foot\") part(\"Hair\") part(\"Hand\") part(\"Handlebar\") part(\"Head\") part(\"Headlight\") part(\"Hoof\") part(\"Horn\") part(\"Leg\") part(\"License_plate\") part(\"Mirror\") part(\"Mouth\") part(\"Muzzle\") part(\"Neck\") part(\"Nose\") part(\"Plant\") part(\"Pot\") part(\"Saddle\") part(\"Screen\") part(\"Stern\") part(\"Tail\") part(\"Torso\") part(\"Wheel\") part(\"Window\")\n",
      "SATISFIABLE\n",
      "\n",
      "Models       : 1\n",
      "Calls        : 1\n",
      "Time         : 0.001s (Solving: 0.00s 1st Model: 0.00s Unsat: 0.00s)\n",
      "CPU Time     : 0.001s\n"
     ]
    }
   ],
   "source": [
    "! clingo data.lp 0"
   ]
  },
  {
   "cell_type": "markdown",
   "id": "88fccde6-7422-48c0-8a5e-db00bec1c042",
   "metadata": {},
   "source": [
    "## Objects Relationships Rules"
   ]
  },
  {
   "cell_type": "markdown",
   "id": "76db2b8a-e1c2-4af7-be40-9463e6bf0d27",
   "metadata": {},
   "source": [
    "Create a file containing the rules to **infer facts** about the input data"
   ]
  },
  {
   "cell_type": "code",
   "execution_count": 3,
   "id": "d495701f-1ebb-4ee3-8bf8-773618d0bf7e",
   "metadata": {},
   "outputs": [
    {
     "name": "stdout",
     "output_type": "stream",
     "text": [
      "Overwriting object_rel_rules.lp\n"
     ]
    }
   ],
   "source": [
    "%%file object_rel_rules.lp\n",
    "%partOf/2 inverse of hasTo/2\n",
    "partOf(L1,L2):-hasA(L2,L1).\n",
    "\n",
    "%define boxes that contain objects\n",
    "objectBox(N,I,B,L):-label(N,I,B,L),object(L).\n",
    "\n",
    "%define boxes that contain parts\n",
    "partBox(N,I,B,L):-label(N,I,B,L),part(L).\n",
    "\n",
    "%Antisymmetric\n",
    "%:-partOf(L1,L2),partOf(L2,L1).\n",
    "\n",
    "#show partOf/2.\n",
    "#show objectBox/4.\n",
    "#show partBox/4.\n",
    "\n"
   ]
  },
  {
   "cell_type": "markdown",
   "id": "a5ded15b-5533-437c-943e-73fbc6bbf57b",
   "metadata": {},
   "source": [
    "Display the results of the reasoning using the rules"
   ]
  },
  {
   "cell_type": "code",
   "execution_count": 4,
   "id": "ae1d64df-1937-47de-b7bc-104c75d2f32f",
   "metadata": {},
   "outputs": [
    {
     "name": "stdout",
     "output_type": "stream",
     "text": [
      "clingo version 5.5.2\n",
      "Reading from data.lp ...\n",
      "Solving...\n",
      "Answer: 1\n",
      "partOf(\"Arm\",\"Body\") partOf(\"Arm\",\"Chair\") partOf(\"Leg\",\"Body\") partOf(\"Leg\",\"Chair\") partOf(\"Beak\",\"Bird\") partOf(\"Mouth\",\"Bottle\") partOf(\"Torso\",\"Body\") partOf(\"Window\",\"Bus\") partOf(\"Window\",\"Car\") partOf(\"Ear\",\"Head\") partOf(\"Head\",\"Body\") partOf(\"Foot\",\"Leg\") partOf(\"Foot\",\"Chair\") partOf(\"Hand\",\"Arm\") partOf(\"Handlebar\",\"Bicycle\") partOf(\"Wheel\",\"Car\") partOf(\"Horn\",\"Car\") partOf(\"Muzzle\",\"Head\") partOf(\"Neck\",\"Body\") partOf(\"Engine\",\"Aeroplane\") partOf(\"Cat\",\"Hair\") objectBox(0,img,b0,\"Aeroplane\") partBox(0,img,b1,\"Artifact_Wing\") partBox(0,img,b2,\"Artifact_Wing\") partBox(0,img,b3,\"Artifact_Wing\") partBox(0,img,b4,\"Body\") partBox(0,img,b5,\"Body\") partBox(0,img,b6,\"Engine\") partBox(0,img,b7,\"Engine\") partBox(0,img,b8,\"Engine\") partBox(0,img,b9,\"Stern\")\n",
      "SATISFIABLE\n",
      "\n",
      "Models       : 1\n",
      "Calls        : 1\n",
      "Time         : 0.001s (Solving: 0.00s 1st Model: 0.00s Unsat: 0.00s)\n",
      "CPU Time     : 0.001s\n"
     ]
    }
   ],
   "source": [
    "!clingo data.lp object_rel_rules.lp 0"
   ]
  },
  {
   "cell_type": "markdown",
   "id": "841cc50b-4c23-4d83-b2cc-ae045f53f4bd",
   "metadata": {},
   "source": [
    "## Spatial Relations Rules\n",
    "Create a file containing the rules focused on the coordinates of the bounding boxes.  \n"
   ]
  },
  {
   "cell_type": "markdown",
   "id": "3e2d9baf-56b3-4821-936a-b379aa4a4409",
   "metadata": {},
   "source": [
    "These rules are used to **infer spatial relationships** between the boxes"
   ]
  },
  {
   "cell_type": "code",
   "execution_count": 5,
   "id": "027ababb-8234-4e61-a523-6d12b0f86fc9",
   "metadata": {},
   "outputs": [
    {
     "name": "stdout",
     "output_type": "stream",
     "text": [
      "Overwriting spatial_rules.lp\n"
     ]
    }
   ],
   "source": [
    "%%file spatial_rules.lp\n",
    "% Define the area of the bounding boxes\n",
    "area(B, A) :- box(_,B, Xmin,Ymin, Xmax, Ymax), \n",
    "            A = (Xmax - Xmin) * (Ymax - Ymin).\n",
    "\n",
    "%Find if two bounding boxes overlap\n",
    "overlap(B1,B2):-box(_,B1,Xmin1,Ymin1,Xmax1,Ymax1),\n",
    "\t\t\t\tbox(_,B2,Xmin2,Ymin2,_,_),\n",
    "\t\t\t\tB1!=B2,\n",
    "\t\t\t\tXmin2>=Xmin1,\n",
    "\t\t\t\tXmin2<=Xmax1,\n",
    "\t\t\t\tYmin2>=Ymin1,\n",
    "\t\t\t\tYmin2<=Ymax1.\n",
    "\n",
    "overlap(B1,B2):-box(_,B1,Xmin1,Ymin1,Xmax1,Ymax1),\n",
    "\t\t\t\tbox(_,B2,Xmin2,_,_,Ymax2),\n",
    "\t\t\t\tB1!=B2,\n",
    "\t\t\t\tXmin2>=Xmin1,\n",
    "\t\t\t\tXmin2<=Xmax1,\n",
    "\t\t\t\tYmax2>=Ymin1,\n",
    "\t\t\t\tYmax2<=Ymax1.\n",
    "\n",
    "% Define the over90 predicate\n",
    "%Find if two bounding boxes overlap with over 90% coverage\n",
    "over90(Bmin,Bmax) :- box(_,B1,Xmin1,Ymin1,Xmax1,Ymax1),\n",
    "\t\t\t\t  box(_,B2,Xmin2,Ymin2,Xmax2,Ymax2),\n",
    "                  overlap(B1,B2),\n",
    "                  area(B1, A1), area(B2, A2),\n",
    "\t\t\t\t  Amin=#min{A1;A2},\n",
    "                  Amax=#max{A1;A2},\n",
    "                  area(Bmin,Amin),\n",
    "                  area(Bmax,Amax),\n",
    "\t\t\t\t  Ymax=#min{Ymax1;Ymax2},\n",
    "\t\t\t\t  Ymin=#max{Ymin1;Ymin2},\n",
    "\t\t\t\t  Xmax=#min{Xmax1;Xmax2},\n",
    "\t\t\t\t  Xmin=#max{Xmin1;Xmin2},\n",
    "\t\t\t\t  Aovl=(Ymax - Ymin) * (Xmax- Xmin),\n",
    "                  90 <= ((100*Aovl)/ Amin).\n",
    "                    \n",
    "#show over90/2."
   ]
  },
  {
   "cell_type": "markdown",
   "id": "59983c1b-b4b6-4a9c-8306-c458fb35557b",
   "metadata": {},
   "source": [
    "Display all the boxes that have **90% or more coverage**"
   ]
  },
  {
   "cell_type": "code",
   "execution_count": 6,
   "id": "75654e56-56ac-4c4e-966c-e29cec0ef9f5",
   "metadata": {},
   "outputs": [
    {
     "name": "stdout",
     "output_type": "stream",
     "text": [
      "clingo version 5.5.2\n",
      "Reading from data.lp ...\n",
      "spatial_rules.lp:28:17-19: info: global variable in tuple of aggregate element:\n",
      "  A1\n",
      "\n",
      "spatial_rules.lp:28:20-22: info: global variable in tuple of aggregate element:\n",
      "  A2\n",
      "\n",
      "spatial_rules.lp:29:29-31: info: global variable in tuple of aggregate element:\n",
      "  A1\n",
      "\n",
      "spatial_rules.lp:29:32-34: info: global variable in tuple of aggregate element:\n",
      "  A2\n",
      "\n",
      "spatial_rules.lp:32:17-22: info: global variable in tuple of aggregate element:\n",
      "  Ymax1\n",
      "\n",
      "spatial_rules.lp:32:23-28: info: global variable in tuple of aggregate element:\n",
      "  Ymax2\n",
      "\n",
      "spatial_rules.lp:34:17-22: info: global variable in tuple of aggregate element:\n",
      "  Xmax1\n",
      "\n",
      "spatial_rules.lp:34:23-28: info: global variable in tuple of aggregate element:\n",
      "  Xmax2\n",
      "\n",
      "spatial_rules.lp:33:17-22: info: global variable in tuple of aggregate element:\n",
      "  Ymin1\n",
      "\n",
      "spatial_rules.lp:33:23-28: info: global variable in tuple of aggregate element:\n",
      "  Ymin2\n",
      "\n",
      "spatial_rules.lp:35:17-22: info: global variable in tuple of aggregate element:\n",
      "  Xmin1\n",
      "\n",
      "spatial_rules.lp:35:23-28: info: global variable in tuple of aggregate element:\n",
      "  Xmin2\n",
      "\n",
      "Solving...\n",
      "Answer: 1\n",
      "over90(b2,b0) over90(b8,b0) over90(b1,b0) over90(b3,b0) over90(b5,b0) over90(b6,b0) over90(b8,b4) over90(b3,b4) over90(b5,b4) over90(b8,b5) over90(b2,b7) over90(b8,b7) over90(b3,b7) over90(b4,b7) over90(b5,b7) over90(b6,b7)\n",
      "SATISFIABLE\n",
      "\n",
      "Models       : 1\n",
      "Calls        : 1\n",
      "Time         : 0.007s (Solving: 0.00s 1st Model: 0.00s Unsat: 0.00s)\n",
      "CPU Time     : 0.007s\n"
     ]
    }
   ],
   "source": [
    "!clingo data.lp spatial_rules.lp 0"
   ]
  },
  {
   "cell_type": "markdown",
   "id": "d48a6db5-7890-4aaf-813d-9297e9504090",
   "metadata": {},
   "source": [
    "## Spatial PartOf Rule\n",
    "\n",
    "Rewrite the file adding the **Spatial Part Of** rule"
   ]
  },
  {
   "cell_type": "code",
   "execution_count": 7,
   "id": "c68b25c6-1284-42c5-85b7-7ac89b371a8e",
   "metadata": {},
   "outputs": [
    {
     "name": "stdout",
     "output_type": "stream",
     "text": [
      "Overwriting object_rel_rules.lp\n"
     ]
    }
   ],
   "source": [
    "%%file object_rel_rules.lp\n",
    "%partOf/2 inverse of hasTo/2\n",
    "partOf(L1,L2):-hasA(L2,L1).\n",
    "\n",
    "%define boxes that contain objects\n",
    "objectBox(N,I,B,L):-label(N,I,B,L),object(L).\n",
    "\n",
    "%define boxes that contain parts\n",
    "partBox(N,I,B,L):-label(N,I,B,L),part(L).\n",
    "\n",
    "%Antisymmetric\n",
    "%:-partOf(L1,L2),partOf(L2,L1).\n",
    "\n",
    "%define boxes that have a Spatial partOf relation\n",
    "spatial_partOf(B1,Lbl1,B2,Lbl2):-over90(B1,B2),\n",
    "                   partBox(_,_,B1,Lbl1),\n",
    "                   objectBox(_,_,B2,Lbl2).\n",
    "        \n",
    "#show spatial_partOf/4.\n"
   ]
  },
  {
   "cell_type": "markdown",
   "id": "48b0c22c-eb63-4199-93b5-af5392e5640d",
   "metadata": {},
   "source": [
    "***Optionally*** execute cell to remove show from over90 rule"
   ]
  },
  {
   "cell_type": "code",
   "execution_count": 8,
   "id": "2259e095-dbc7-42df-bdc4-141f5eb0fc08",
   "metadata": {},
   "outputs": [
    {
     "name": "stdout",
     "output_type": "stream",
     "text": [
      "Overwriting spatial_rules.lp\n"
     ]
    }
   ],
   "source": [
    "%%file spatial_rules.lp\n",
    "% Define the area of the bounding boxes\n",
    "area(B, A) :- box(_,B, Xmin,Ymin, Xmax, Ymax), \n",
    "            A = (Xmax - Xmin) * (Ymax - Ymin).\n",
    "\n",
    "%Find if two bounding boxes overlap\n",
    "overlap(B1,B2):-box(_,B1,Xmin1,Ymin1,Xmax1,Ymax1),\n",
    "\t\t\t\tbox(_,B2,Xmin2,Ymin2,_,_),\n",
    "\t\t\t\tB1!=B2,\n",
    "\t\t\t\tXmin2>=Xmin1,\n",
    "\t\t\t\tXmin2<=Xmax1,\n",
    "\t\t\t\tYmin2>=Ymin1,\n",
    "\t\t\t\tYmin2<=Ymax1.\n",
    "\n",
    "overlap(B1,B2):-box(_,B1,Xmin1,Ymin1,Xmax1,Ymax1),\n",
    "\t\t\t\tbox(_,B2,Xmin2,_,_,Ymax2),\n",
    "\t\t\t\tB1!=B2,\n",
    "\t\t\t\tXmin2>=Xmin1,\n",
    "\t\t\t\tXmin2<=Xmax1,\n",
    "\t\t\t\tYmax2>=Ymin1,\n",
    "\t\t\t\tYmax2<=Ymax1.\n",
    "\n",
    "% Define the over90 predicate\n",
    "%Find if two bounding boxes overlap with over 90% coverage\n",
    "over90(Bmin,Bmax) :- box(_,B1,Xmin1,Ymin1,Xmax1,Ymax1),\n",
    "\t\t\t\t  box(_,B2,Xmin2,Ymin2,Xmax2,Ymax2),\n",
    "                  overlap(B1,B2),\n",
    "                  area(B1, A1), area(B2, A2),\n",
    "\t\t\t\t  Amin=#min{A1;A2},\n",
    "                  Amax=#max{A1;A2},\n",
    "                  area(Bmin,Amin),\n",
    "                  area(Bmax,Amax),\n",
    "\t\t\t\t  Ymax=#min{Ymax1;Ymax2},\n",
    "\t\t\t\t  Ymin=#max{Ymin1;Ymin2},\n",
    "\t\t\t\t  Xmax=#min{Xmax1;Xmax2},\n",
    "\t\t\t\t  Xmin=#max{Xmin1;Xmin2},\n",
    "\t\t\t\t  Aovl=(Ymax - Ymin) * (Xmax- Xmin),\n",
    "                  90 <= ((100*Aovl)/ Amin)."
   ]
  },
  {
   "cell_type": "markdown",
   "id": "7635c549-6c30-439a-937d-f411f82d47bd",
   "metadata": {},
   "source": [
    "Display all the **Spatially PartOf** facts that were infered"
   ]
  },
  {
   "cell_type": "code",
   "execution_count": 9,
   "id": "54bb15a7-7773-4e15-b94c-eb0511c0cc5a",
   "metadata": {},
   "outputs": [
    {
     "name": "stdout",
     "output_type": "stream",
     "text": [
      "clingo version 5.5.2\n",
      "Reading from data.lp ...\n",
      "spatial_rules.lp:28:17-19: info: global variable in tuple of aggregate element:\n",
      "  A1\n",
      "\n",
      "spatial_rules.lp:28:20-22: info: global variable in tuple of aggregate element:\n",
      "  A2\n",
      "\n",
      "spatial_rules.lp:29:29-31: info: global variable in tuple of aggregate element:\n",
      "  A1\n",
      "\n",
      "spatial_rules.lp:29:32-34: info: global variable in tuple of aggregate element:\n",
      "  A2\n",
      "\n",
      "spatial_rules.lp:32:17-22: info: global variable in tuple of aggregate element:\n",
      "  Ymax1\n",
      "\n",
      "spatial_rules.lp:32:23-28: info: global variable in tuple of aggregate element:\n",
      "  Ymax2\n",
      "\n",
      "spatial_rules.lp:34:17-22: info: global variable in tuple of aggregate element:\n",
      "  Xmax1\n",
      "\n",
      "spatial_rules.lp:34:23-28: info: global variable in tuple of aggregate element:\n",
      "  Xmax2\n",
      "\n",
      "spatial_rules.lp:33:17-22: info: global variable in tuple of aggregate element:\n",
      "  Ymin1\n",
      "\n",
      "spatial_rules.lp:33:23-28: info: global variable in tuple of aggregate element:\n",
      "  Ymin2\n",
      "\n",
      "spatial_rules.lp:35:17-22: info: global variable in tuple of aggregate element:\n",
      "  Xmin1\n",
      "\n",
      "spatial_rules.lp:35:23-28: info: global variable in tuple of aggregate element:\n",
      "  Xmin2\n",
      "\n",
      "Solving...\n",
      "Answer: 1\n",
      "spatial_partOf(b2,\"Artifact_Wing\",b0,\"Aeroplane\") spatial_partOf(b8,\"Engine\",b0,\"Aeroplane\") spatial_partOf(b1,\"Artifact_Wing\",b0,\"Aeroplane\") spatial_partOf(b3,\"Artifact_Wing\",b0,\"Aeroplane\") spatial_partOf(b5,\"Body\",b0,\"Aeroplane\") spatial_partOf(b6,\"Engine\",b0,\"Aeroplane\")\n",
      "SATISFIABLE\n",
      "\n",
      "Models       : 1\n",
      "Calls        : 1\n",
      "Time         : 0.008s (Solving: 0.00s 1st Model: 0.00s Unsat: 0.00s)\n",
      "CPU Time     : 0.008s\n"
     ]
    }
   ],
   "source": [
    "!clingo data.lp spatial_rules.lp object_rel_rules.lp 0"
   ]
  },
  {
   "cell_type": "markdown",
   "id": "4e102252-ca80-44ce-867e-2eebe736c6a7",
   "metadata": {},
   "source": [
    "## Semantic PartOf Rule\n",
    "Rewrite file adding the Semantic PartOf rule"
   ]
  },
  {
   "cell_type": "markdown",
   "id": "55ea38ac-371e-437c-b8d0-10e476e2daf2",
   "metadata": {},
   "source": [
    "Semantic PartOf rule is taking into consideration both **semantic** and **spatial** information\n"
   ]
  },
  {
   "cell_type": "code",
   "execution_count": 10,
   "id": "636f6b35-d401-43de-ba12-527f46403a42",
   "metadata": {},
   "outputs": [
    {
     "name": "stdout",
     "output_type": "stream",
     "text": [
      "Overwriting object_rel_rules.lp\n"
     ]
    }
   ],
   "source": [
    "%%file object_rel_rules.lp\n",
    "%partOf/2 inverse of hasTo/2\n",
    "partOf(L1,L2):-hasA(L2,L1).\n",
    "\n",
    "%define boxes that contain objects\n",
    "objectBox(N,I,B,L):-label(N,I,B,L),object(L).\n",
    "\n",
    "%define boxes that contain parts\n",
    "partBox(N,I,B,L):-label(N,I,B,L),part(L).\n",
    "\n",
    "%Antisymmetric\n",
    "%:-partOf(L1,L2),partOf(L2,L1).\n",
    "\n",
    "%define boxes that have a Spatial partOf relation\n",
    "spatial_partOf(B1,Lbl1,B2,Lbl2):-over90(B1,B2),\n",
    "                   partBox(_,_,B1,Lbl1),\n",
    "                   objectBox(_,_,B2,Lbl2).\n",
    "%Rule to infer the Actual Part Of between two boxes,considering spatial AND semantic relation        \n",
    "semantic_partOf(B1,L1,B2,L2):-spatial_partOf(B1,L1,B2,L2),\n",
    "                                   partOf(L1,L2).\n",
    "        \n",
    "\n",
    "#show semantic_partOf/4.\n"
   ]
  },
  {
   "cell_type": "markdown",
   "id": "ae6bf173-8689-4d14-910a-9d493e3ca5de",
   "metadata": {},
   "source": [
    "Display all the **Semantic PartOf** facts that were infered"
   ]
  },
  {
   "cell_type": "code",
   "execution_count": 11,
   "id": "e2d8cd69-194e-44b7-97e5-b79722429ebd",
   "metadata": {},
   "outputs": [
    {
     "name": "stdout",
     "output_type": "stream",
     "text": [
      "clingo version 5.5.2\n",
      "Reading from data.lp ...\n",
      "spatial_rules.lp:28:17-19: info: global variable in tuple of aggregate element:\n",
      "  A1\n",
      "\n",
      "spatial_rules.lp:28:20-22: info: global variable in tuple of aggregate element:\n",
      "  A2\n",
      "\n",
      "spatial_rules.lp:29:29-31: info: global variable in tuple of aggregate element:\n",
      "  A1\n",
      "\n",
      "spatial_rules.lp:29:32-34: info: global variable in tuple of aggregate element:\n",
      "  A2\n",
      "\n",
      "spatial_rules.lp:32:17-22: info: global variable in tuple of aggregate element:\n",
      "  Ymax1\n",
      "\n",
      "spatial_rules.lp:32:23-28: info: global variable in tuple of aggregate element:\n",
      "  Ymax2\n",
      "\n",
      "spatial_rules.lp:34:17-22: info: global variable in tuple of aggregate element:\n",
      "  Xmax1\n",
      "\n",
      "spatial_rules.lp:34:23-28: info: global variable in tuple of aggregate element:\n",
      "  Xmax2\n",
      "\n",
      "spatial_rules.lp:33:17-22: info: global variable in tuple of aggregate element:\n",
      "  Ymin1\n",
      "\n",
      "spatial_rules.lp:33:23-28: info: global variable in tuple of aggregate element:\n",
      "  Ymin2\n",
      "\n",
      "spatial_rules.lp:35:17-22: info: global variable in tuple of aggregate element:\n",
      "  Xmin1\n",
      "\n",
      "spatial_rules.lp:35:23-28: info: global variable in tuple of aggregate element:\n",
      "  Xmin2\n",
      "\n",
      "Solving...\n",
      "Answer: 1\n",
      "semantic_partOf(b8,\"Engine\",b0,\"Aeroplane\") semantic_partOf(b6,\"Engine\",b0,\"Aeroplane\")\n",
      "SATISFIABLE\n",
      "\n",
      "Models       : 1\n",
      "Calls        : 1\n",
      "Time         : 0.011s (Solving: 0.00s 1st Model: 0.00s Unsat: 0.00s)\n",
      "CPU Time     : 0.011s\n"
     ]
    }
   ],
   "source": [
    "!clingo data.lp spatial_rules.lp object_rel_rules.lp 0"
   ]
  }
 ],
 "metadata": {
  "kernelspec": {
   "display_name": "Python 3",
   "language": "python",
   "name": "python3"
  },
  "language_info": {
   "codemirror_mode": {
    "name": "ipython",
    "version": 3
   },
   "file_extension": ".py",
   "mimetype": "text/x-python",
   "name": "python",
   "nbconvert_exporter": "python",
   "pygments_lexer": "ipython3",
   "version": "3.9.15"
  }
 },
 "nbformat": 4,
 "nbformat_minor": 5
}
